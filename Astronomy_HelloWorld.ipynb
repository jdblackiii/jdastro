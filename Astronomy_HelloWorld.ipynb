{
  "nbformat": 4,
  "nbformat_minor": 0,
  "metadata": {
    "colab": {
      "provenance": [],
      "mount_file_id": "1TkS7H1xg28XIOsp8Alfn3f4HBx-jLfc6",
      "authorship_tag": "ABX9TyNLfuKAwYh1Qi+13Pae0/cu",
      "include_colab_link": true
    },
    "kernelspec": {
      "name": "python3",
      "display_name": "Python 3"
    },
    "language_info": {
      "name": "python"
    }
  },
  "cells": [
    {
      "cell_type": "markdown",
      "metadata": {
        "id": "view-in-github",
        "colab_type": "text"
      },
      "source": [
        "<a href=\"https://colab.research.google.com/github/jdblackiii/jdastro/blob/main/Astronomy_HelloWorld.ipynb\" target=\"_parent\"><img src=\"https://colab.research.google.com/assets/colab-badge.svg\" alt=\"Open In Colab\"/></a>"
      ]
    },
    {
      "cell_type": "code",
      "execution_count": 4,
      "metadata": {
        "id": "ch9Pv0aW0B8G"
      },
      "outputs": [],
      "source": [
        "import numpy as np"
      ]
    },
    {
      "cell_type": "markdown",
      "source": [
        "Hello World!"
      ],
      "metadata": {
        "id": "Vhi-pBCn1RWB"
      }
    },
    {
      "cell_type": "code",
      "source": [
        "print('Hello World')\n",
        "print(np.pi)"
      ],
      "metadata": {
        "colab": {
          "base_uri": "https://localhost:8080/"
        },
        "id": "2B5XtKBA1Qfn",
        "outputId": "d8a3ce78-f5d0-4db4-b092-d70a5e53d16f"
      },
      "execution_count": 6,
      "outputs": [
        {
          "output_type": "stream",
          "name": "stdout",
          "text": [
            "Hello World\n",
            "3.141592653589793\n"
          ]
        }
      ]
    }
  ]
}