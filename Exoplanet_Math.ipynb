{
  "nbformat": 4,
  "nbformat_minor": 0,
  "metadata": {
    "colab": {
      "provenance": [],
      "authorship_tag": "ABX9TyMBm4EM4s//AbybRqr5FzjQ",
      "include_colab_link": true
    },
    "kernelspec": {
      "name": "python3",
      "display_name": "Python 3"
    },
    "language_info": {
      "name": "python"
    }
  },
  "cells": [
    {
      "cell_type": "markdown",
      "metadata": {
        "id": "view-in-github",
        "colab_type": "text"
      },
      "source": [
        "<a href=\"https://colab.research.google.com/github/jdblackiii/jdastro/blob/main/Exoplanet_Math.ipynb\" target=\"_parent\"><img src=\"https://colab.research.google.com/assets/colab-badge.svg\" alt=\"Open In Colab\"/></a>"
      ]
    },
    {
      "cell_type": "code",
      "execution_count": 3,
      "metadata": {
        "id": "BMnVuIfbLb8D"
      },
      "outputs": [],
      "source": [
        "import astropy.units as u\n",
        "import astropy.constants as ac\n",
        "import numpy as np"
      ]
    },
    {
      "cell_type": "markdown",
      "source": [
        "How long will Earth take to transit the Sun?"
      ],
      "metadata": {
        "id": "QznOHYBRNmTR"
      }
    },
    {
      "cell_type": "code",
      "source": [
        "# time = diameter / orbital_velocity\n",
        "sun_diameter = 2 * u.solRad\n",
        "au = 1 * u.AU\n",
        "velocity = np.sqrt(ac.G * u.solMass / au)\n",
        "\n",
        "time = sun_diameter / velocity\n",
        "print(f'Earth will take {time.to(u.hour)} to transit the Sun')"
      ],
      "metadata": {
        "colab": {
          "base_uri": "https://localhost:8080/"
        },
        "id": "Xr3BdHR_L1P8",
        "outputId": "9bde89e1-94c4-4fbf-90ed-9d95ce9cb62d"
      },
      "execution_count": 12,
      "outputs": [
        {
          "output_type": "stream",
          "name": "stdout",
          "text": [
            "Earth will take 12.976464628547822 h to transit the Sun\n"
          ]
        }
      ]
    },
    {
      "cell_type": "markdown",
      "source": [
        "How much of a flux dip will there be from Jupiter transiting the Sun?"
      ],
      "metadata": {
        "id": "6y9f-DPtNsOp"
      }
    },
    {
      "cell_type": "code",
      "source": [
        "delta = (u.jupiterRad / u.solRad)**2\n",
        "transit_depth = delta.decompose()\n",
        "print(f'Transit depth: {transit_depth}')\n",
        "\n"
      ],
      "metadata": {
        "colab": {
          "base_uri": "https://localhost:8080/"
        },
        "id": "k4eTeSe_Msa1",
        "outputId": "11c6ae44-74db-428e-c9a0-e661a4c861f0"
      },
      "execution_count": 20,
      "outputs": [
        {
          "output_type": "stream",
          "name": "stdout",
          "text": [
            "Transit depth: 0.0105602\n",
            "Jupiter will take 29.01625701705449 h to transit the Sun\n"
          ]
        }
      ]
    },
    {
      "cell_type": "markdown",
      "source": [
        "How long will Jupiter take to transit the sun?"
      ],
      "metadata": {
        "id": "-TsED9xFTcWe"
      }
    },
    {
      "cell_type": "code",
      "source": [
        "jupiter_velocity = np.sqrt(ac.G * u.solMass / (5 * u.AU))\n",
        "jupiter_time = sun_diameter / jupiter_velocity\n",
        "print(f'Jupiter will take {jupiter_time.to(u.hour)} to transit the Sun')"
      ],
      "metadata": {
        "id": "gs1nL6N0TZsc"
      },
      "execution_count": null,
      "outputs": []
    },
    {
      "cell_type": "markdown",
      "source": [
        "How would the sun move if influenced only by Earth or Jupiter?"
      ],
      "metadata": {
        "id": "6tW4_b5HTTOE"
      }
    },
    {
      "cell_type": "code",
      "source": [
        "earth_velocity = 30 * u.km / u.s\n",
        "sun_earth_velocity = (u.earthMass / u.solMass) * earth_velocity\n",
        "print(f'The suns theoretical velocity influenced by only Earth {sun_earth_velocity.to(u.m / u.s)}')\n",
        "\n",
        "sun_jupiter_velocity = (u.jupiterMass / u.solMass) * jupiter_velocity\n",
        "print(f'The suns theoretical velocity influenced by only Jupiter {sun_jupiter_velocity.to(u.m / u.s)}')"
      ],
      "metadata": {
        "colab": {
          "base_uri": "https://localhost:8080/"
        },
        "id": "7Tmds16UPN8A",
        "outputId": "f48c2c39-cffe-402d-d1be-38686c4bc9d9"
      },
      "execution_count": 21,
      "outputs": [
        {
          "output_type": "stream",
          "name": "stdout",
          "text": [
            "The suns theoretical velocity influenced by only Earth 0.09010468046552379 m / s\n",
            "The suns theoretical velocity influenced by only Jupiter 12.715308911562614 m / s\n"
          ]
        }
      ]
    }
  ]
}