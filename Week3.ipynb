{
 "cells": [
  {
   "cell_type": "code",
   "execution_count": 1,
   "metadata": {},
   "outputs": [],
   "source": [
    "import numpy as np\n",
    "import astropy.constants as ac\n",
    "import astropy.units as au \n",
    "import astropy.io.ascii as aio\n",
    "import matplotlib.pyplot as plt"
   ]
  },
  {
   "cell_type": "code",
   "execution_count": 2,
   "metadata": {},
   "outputs": [
    {
     "name": "stdout",
     "output_type": "stream",
     "text": [
      "Loaded file from galaxy_rotation_2006.txt\n",
      " Loaded data:\n",
      "\n",
      " col1  col2  col3 col4\n",
      "----- ----- ----- ----\n",
      " 25.0  5.68 235.5 17.8\n",
      " 30.0  6.81 242.9  0.8\n",
      " 35.0  7.95 251.1  0.7\n",
      " 40.0  9.08 262.0  2.1\n",
      " 45.0 10.22 258.9  6.9\n",
      " 50.0 11.35 255.1  5.7\n",
      " 55.0 12.49 251.8 17.1\n",
      " 60.0 13.62 252.1  7.4\n",
      " 65.0 14.76 251.0 18.6\n",
      " 70.0 15.89 245.5 28.8\n",
      "  ...   ...   ...  ...\n",
      "108.0 24.52 227.5 28.8\n",
      "112.5 25.54 227.4 28.8\n",
      "117.0 26.56 225.6 28.8\n",
      "121.5 27.58 224.4 28.8\n",
      "126.0  28.6 222.3 28.8\n",
      "130.5 29.62 222.1 28.8\n",
      "135.0 30.65 224.9 28.8\n",
      "139.5 31.67 228.1 28.8\n",
      "144.0 32.69 231.1 28.8\n",
      "148.5 33.71 230.4 28.8\n",
      "153.0 34.73 226.8 28.8\n",
      "Length = 28 rows\n",
      "The orbital velocity at radius 5.68 is 4.766142291386287 km / s\n",
      "The orbital velocity at radius 6.81 is 4.352789004155528 km / s\n",
      "The orbital velocity at radius 7.95 is 4.028632086788635 km / s\n",
      "The orbital velocity at radius 9.08 is 3.7696258549122557 km / s\n",
      "The orbital velocity at radius 10.22 is 3.5531678501224344 km / s\n",
      "The orbital velocity at radius 11.35 is 3.3716558645298256 km / s\n",
      "The orbital velocity at radius 12.49 is 3.214104201911268 km / s\n",
      "The orbital velocity at radius 13.62 is 3.077886621912613 km / s\n",
      "The orbital velocity at radius 14.76 is 2.956636901678396 km / s\n",
      "The orbital velocity at radius 15.89 is 2.8495692993877366 km / s\n",
      "The orbital velocity at radius 17.03 is 2.7525413240352865 km / s\n",
      "The orbital velocity at radius 18.16 is 2.6655280045445924 km / s\n",
      "The orbital velocity at radius 19.3 is 2.585607014258112 km / s\n",
      "The orbital velocity at radius 20.43 is 2.513083903274837 km / s\n",
      "The orbital velocity at radius 21.45 is 2.4526045154369367 km / s\n",
      "The orbital velocity at radius 22.47 is 2.396291435442096 km / s\n",
      "The orbital velocity at radius 23.5 is 2.3431885722563384 km / s\n",
      "The orbital velocity at radius 24.52 is 2.2939341077958164 km / s\n",
      "The orbital velocity at radius 25.54 is 2.2476605613970118 km / s\n",
      "The orbital velocity at radius 26.56 is 2.2040788969377942 km / s\n",
      "The orbital velocity at radius 27.58 is 2.16293785132581 km / s\n",
      "The orbital velocity at radius 28.6 is 2.1240178158048106 km / s\n",
      "The orbital velocity at radius 29.62 is 2.0871258866233693 km / s\n",
      "The orbital velocity at radius 30.65 is 2.0517570403747105 km / s\n",
      "The orbital velocity at radius 31.67 is 2.018446023057773 km / s\n",
      "The orbital velocity at radius 32.69 is 1.986706494439242 km / s\n",
      "The orbital velocity at radius 33.71 is 1.9564186559412566 km / s\n",
      "The orbital velocity at radius 34.73 is 1.9274751166742614 km / s\n"
     ]
    },
    {
     "data": {
      "image/png": "[encoded data removed]",
      "text/plain": [
       "<Figure size 640x480 with 1 Axes>"
      ]
     },
     "metadata": {},
     "output_type": "display_data"
    }
   ],
   "source": [
    "#Path data will be loaded in from\n",
    "path = 'galaxy_rotation_2006.txt'\n",
    "table = aio.read(path)\n",
    "print(f\"Loaded file from {path}\\n Loaded data:\\n\")\n",
    "print(table)\n",
    "dis = table[\"col2\"]\n",
    "vol = table[\"col3\"]\n",
    "\n",
    "#Create initial chart from input data, set labels\n",
    "plt.plot(dis, vol)\n",
    "plt.xlabel(\"Distance (kp/c)\")\n",
    "plt.ylabel(\"Velocity (km/s)\")\n",
    "\n",
    "'''\n",
    "Using data loaded in from file, calculate orbital velocity\n",
    "\n",
    "In this case, we are calculating the orbital velocity of\n",
    "the milky way if its only mass were the central black hole\n",
    "'''\n",
    "mass = 3e7 * au.solMass\n",
    "\n",
    "def calculate_orbital_velocity(M, r):\n",
    "    ret_val = np.sqrt((ac.G * M) / r)\n",
    "    return ret_val\n",
    "\n",
    "vel_ret = np.zeros(np.shape(dis)) * au.km / au.s\n",
    "for i, radius in enumerate(dis):\n",
    "    radius_with_units = radius * 1000 * au.parsec\n",
    "    orb_velocity = calculate_orbital_velocity(mass, radius_with_units)\n",
    "    print(f'The orbital velocity at radius {radius} is {orb_velocity.to(au.km / au.s)}')\n",
    "    vel_ret[i] = orb_velocity\n",
    "\n",
    "#Plot black hole data\n",
    "plt.plot(vel_ret, color = 'red', label = 'With only Supermassive Black Hole')\n",
    "plt.show()"
   ]
  }
 ],
 "metadata": {
  "kernelspec": {
   "display_name": "Python 3",
   "language": "python",
   "name": "python3"
  },
  "language_info": {
   "codemirror_mode": {
    "name": "ipython",
    "version": 3
   },
   "file_extension": ".py",
   "mimetype": "text/x-python",
   "name": "python",
   "nbconvert_exporter": "python",
   "pygments_lexer": "ipython3",
   "version": "3.10.0"
  },
  "orig_nbformat": 4
 },
 "nbformat": 4,
 "nbformat_minor": 2
}
