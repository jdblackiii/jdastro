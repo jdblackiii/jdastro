{
 "cells": [
  {
   "cell_type": "code",
   "execution_count": null,
   "metadata": {},
   "outputs": [],
   "source": [
    "import numpy as np\n",
    "import astropy.constants as ac\n",
    "import astropy.units as au \n",
    "import astropy.io.ascii as aio\n",
    "import matplotlib.pyplot as plt"
   ]
  },
  {
   "cell_type": "code",
   "execution_count": null,
   "metadata": {},
   "outputs": [],
   "source": [
    "#Path data will be loaded in from\n",
    "path = 'galaxy_rotation_2006.txt'\n",
    "table = aio.read(path)\n",
    "print(f\"Loaded file from {path}\\n Loaded data:\\n\")\n",
    "print(table)\n",
    "dis = table[\"col2\"]\n",
    "vol = table[\"col3\"]\n",
    "\n",
    "#Create initial chart from input data, set labels\n",
    "plt.plot(dis, vol)\n",
    "plt.xlabel(\"Distance (kp/c)\")\n",
    "plt.ylabel(\"Velocity (km/s)\")\n",
    "\n",
    "'''\n",
    "Using data loaded in from file, calculate orbital velocity\n",
    "\n",
    "In this case, we are calculating the orbital velocity of\n",
    "the milky way if its only mass were the central black hole\n",
    "'''\n",
    "\n",
    "\n",
    "def calculate_orbital_velocity(M, r):\n",
    "    ret_val = np.sqrt((ac.G * M) / r)\n",
    "    return ret_val\n",
    "\n",
    "vel_ret = np.zeros(np.shape(dis)) * au.km / au.s\n",
    "mass_blackhole = 3e7 * au.solMass\n",
    "\n",
    "for i, radius in enumerate(dis):\n",
    "    radius_with_units = radius * 1000 * au.parsec\n",
    "    orb_velocity = calculate_orbital_velocity(mass_blackhole, radius_with_units)\n",
    "    print(f'The orbital velocity at radius {radius} is {orb_velocity.to(au.km / au.s)}')\n",
    "    vel_ret[i] = orb_velocity\n",
    "\n",
    "#Plot black hole data\n",
    "plt.plot(vel_ret, color = 'red', label = 'With only Supermassive Black Hole')\n",
    "plt.show()"
   ]
  },
  {
   "cell_type": "code",
   "execution_count": null,
   "metadata": {},
   "outputs": [],
   "source": []
  }
 ],
 "metadata": {
  "kernelspec": {
   "display_name": "Python 3",
   "language": "python",
   "name": "python3"
  },
  "language_info": {
   "codemirror_mode": {
    "name": "ipython",
    "version": 3
   },
   "file_extension": ".py",
   "mimetype": "text/x-python",
   "name": "python",
   "nbconvert_exporter": "python",
   "pygments_lexer": "ipython3",
   "version": "3.10.0"
  },
  "orig_nbformat": 4
 },
 "nbformat": 4,
 "nbformat_minor": 2
}
